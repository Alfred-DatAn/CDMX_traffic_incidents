{
 "cells": [
  {
   "cell_type": "markdown",
   "metadata": {},
   "source": [
    "# 1. Main data wrangling"
   ]
  },
  {
   "cell_type": "markdown",
   "metadata": {},
   "source": [
    "Explore later: (https://github.com/dunovank/jupyter-themes)\n"
   ]
  },
  {
   "cell_type": "code",
   "execution_count": 1,
   "metadata": {},
   "outputs": [],
   "source": [
    "import pandas as pd\n",
    "import os\n",
    "from datetime import datetime\n",
    "from datetime import timedelta\n",
    "import numpy as np\n",
    "import re\n",
    "import math\n",
    "import json\n",
    "import geopandas as gp"
   ]
  },
  {
   "cell_type": "code",
   "execution_count": null,
   "metadata": {},
   "outputs": [],
   "source": [
    "def load_incidents(filename):\n",
    "    #read csv\n",
    "    csv_path = os.path.join(\"data/traffic_incidents\", filename)\n",
    "    df = pd.read_csv(csv_path)\n",
    "    #drop nan values, plus useless columns\n",
    "    df = df.dropna()\n",
    "    df = df.drop([\"año_cierre\", \"mes_cierre\", \"mes\"], axis=1)\n",
    "    \n",
    "    #drop badly recorded data\n",
    "    miss = []\n",
    "    r = re.compile('.{2}:.{2}:.{2}')\n",
    "    for i, row in df.iterrows():\n",
    "        if (r.match(row[\"hora_creacion\"])) and (r.match(row[\"hora_cierre\"])):\n",
    "            continue\n",
    "        else:\n",
    "            miss.append(i)\n",
    "        \n",
    "    df = df.drop(miss)\n",
    "    \n",
    "    #renaming columns\n",
    "    df = df.rename(columns={\n",
    "        \"fecha_creacion\" : \"start_date\",\n",
    "        \"hora_creacion\" : \"start_hour\",\n",
    "        \"dia_semana\" : \"weekday\",\n",
    "        \"codigo_cierre\" : \"incident_code\",\n",
    "        \"fecha_cierre\" : \"end_date\",\n",
    "        \"hora_cierre\" : \"end_hour\",\n",
    "        \"delegacion_inicio\" : \"start_county\",\n",
    "        \"incidente_c4\" : \"type_incident\",\n",
    "        \"latitud\" : \"lat\",\n",
    "        \"longitud\" : \"lng\",\n",
    "        \"clas_con_f_alarma\" : \"class_incident\",\n",
    "        \"tipo_entrada\" : \"aid_channel\",\n",
    "        \"delegacion_cierre\" : \"end_county\" \n",
    "    })\n",
    "    #renaming county values\n",
    "    for col in [\"start_county\", \"end_county\"]:\n",
    "        df = df.replace({col: {\"GUSTAVO A. MADERO\": \"GAM\",\n",
    "                               \"ALVARO OBREGON\": \"AOB\",\n",
    "                              \"CUAJIMALPA\" : \"CUA\",\n",
    "                              \"IZTAPALAPA\" : \"IZP\",\n",
    "                              \"AZCAPOTZALCO\" : \"AZC\",\n",
    "                              \"TLALPAN\" : \"TLA\",\n",
    "                              \"MIGUEL HIDALGO\" : \"MHI\",\n",
    "                              \"CUAUHTEMOC\" : \"CUH\",\n",
    "                              \"IZTACALCO\" : \"IZC\",\n",
    "                              \"VENUSTIANO CARRANZA\" : \"VCA\",\n",
    "                              \"MAGDALENA CONTRERAS\" : \"MCO\",\n",
    "                              \"BENITO JUAREZ\" : \"BJU\",\n",
    "                              \"COYOACAN\" : \"COY\",\n",
    "                              \"XOCHIMILCO\" : \"XOC\",\n",
    "                              \"TLAHUAC\" : \"TLH\",\n",
    "                              \"MILPA ALTA\" : \"MAL\"}\n",
    "                        })\n",
    "    #renaming weekdays\n",
    "    df = df.replace({\"weekday\":{\"Lunes\" : \"MO\",\n",
    "                               \"Martes\" : \"TU\",\n",
    "                               \"Miércoles\" : \"WE\",\n",
    "                               \"Jueves\" : \"TH\",\n",
    "                               \"Viernes\" : \"FR\",\n",
    "                               \"Sábado\" : \"SA\",\n",
    "                               \"Domingo\" : \"SU\"}})\n",
    "    #renaming incident code\n",
    "    def change_code(x):\n",
    "        if \"(D)\" in x:\n",
    "            return \"duplicated\"\n",
    "        elif \"(N)\" in x:\n",
    "            return \"not found\"\n",
    "        elif \"(A)\" in x:\n",
    "            return \"affirmative\"\n",
    "        elif \"(F)\" in x:\n",
    "            return \"false\"\n",
    "        else:\n",
    "            return \"informative\"\n",
    "    \n",
    "    df[\"incident_code\"] = df[\"incident_code\"].apply(change_code)\n",
    "    \n",
    "    #renaming class_incident\n",
    "    df = df.replace({\"class_incident\":{\"EMERGENCIA\" : \"Emergencies\",\n",
    "                               \"URGENCIAS MEDICAS\" : \"Medical emergencies\",\n",
    "                               \"FALSA ALARMA\" : \"False alarm\",\n",
    "                               \"DELITO\" : \"Crime\"}\n",
    "                    })\n",
    "    #renaming aid_channel\n",
    "    df = df.replace({\"aid_channel\":{\"LLAMADA DEL 911\" : \"911 call\",\n",
    "                               \"LLAMADA APP911\" : \"911 App\",\n",
    "                               \"BOTÓN DE AUXILIO\" : \"Help button\",\n",
    "                               \"RADIO\" : \"Radio\",\n",
    "                               \"ZELLO\" : \"Zello\",\n",
    "                               \"REDES\" : \"Social media\",\n",
    "                               \"CÁMARA\" : \"Camera\"}\n",
    "                    })\n",
    "    #creating new column: time_response\n",
    "    FMT = \"%H:%M:%S\"\n",
    "    for i, row in df.iterrows():\n",
    "        time1 = datetime.strptime(row[\"start_hour\"], FMT)\n",
    "        time2 = datetime.strptime(row[\"end_hour\"], FMT)\n",
    "        tdelta = (time2 - time1).total_seconds() // 60\n",
    "\n",
    "        if tdelta < 0:\n",
    "            tdelta = -tdelta\n",
    "        df.at[i, \"time_response\"] = tdelta\n",
    "      \n",
    "    return df"
   ]
  },
  {
   "cell_type": "code",
   "execution_count": null,
   "metadata": {},
   "outputs": [],
   "source": [
    "df17 = load_incidents(\"incidents_2017.csv\")\n",
    "#df18 = load_incidents(\"incidents_2018.csv\")\n",
    "#df19 = load_incidents(\"incidents_2019.csv\")\n",
    "#df20 = load_incidents(\"incidents_2020.csv\")"
   ]
  },
  {
   "cell_type": "code",
   "execution_count": null,
   "metadata": {},
   "outputs": [],
   "source": [
    "df20.to_csv(\"df20.csv\")"
   ]
  },
  {
   "cell_type": "code",
   "execution_count": null,
   "metadata": {},
   "outputs": [],
   "source": [
    "#transform start_date for df19\n",
    "miss_date = []\n",
    "r = re.compile('.{2}/.{2}/.{4}')\n",
    "for i, row in df19.iterrows():\n",
    "    if (r.match(row[\"start_date\"])):\n",
    "        continue\n",
    "    else:\n",
    "        date = row[\"start_date\"].split(\"/\")\n",
    "        ndate= date[0]+ \"/\" + date[1] + \"/\" + \"20\" + date[2]\n",
    "        df19.at[i,\"start_date\"] = ndate"
   ]
  },
  {
   "cell_type": "markdown",
   "metadata": {},
   "source": [
    "## 1.2 Concatenate all dfs"
   ]
  },
  {
   "cell_type": "code",
   "execution_count": null,
   "metadata": {},
   "outputs": [],
   "source": [
    "CDMX_1720 = pd.concat([df17, df18, df19, df20], ignore_index=True)"
   ]
  },
  {
   "cell_type": "code",
   "execution_count": null,
   "metadata": {},
   "outputs": [],
   "source": [
    "CDMX_1720.info()"
   ]
  },
  {
   "cell_type": "code",
   "execution_count": null,
   "metadata": {},
   "outputs": [],
   "source": [
    "CDMX_1720.to_csv(\"cdmx_c5_17to20.csv\")"
   ]
  },
  {
   "cell_type": "markdown",
   "metadata": {},
   "source": [
    "# 2. Incident rate table"
   ]
  },
  {
   "cell_type": "code",
   "execution_count": null,
   "metadata": {},
   "outputs": [],
   "source": [
    "vfleet = pd.read_csv(\"data/vehicle_fleet/fleet_2018.csv\")"
   ]
  },
  {
   "cell_type": "code",
   "execution_count": null,
   "metadata": {},
   "outputs": [],
   "source": [
    "vfleet = vfleet.drop([\"PROD_EST\", \"COBERTURA\", \"ESTATUS\"], axis=1)"
   ]
  },
  {
   "cell_type": "code",
   "execution_count": null,
   "metadata": {},
   "outputs": [],
   "source": [
    "#keep only records from CDMX\n",
    "dprows = []\n",
    "for i, row in vfleet.iterrows():\n",
    "    if row[\"ID_ENTIDAD\"] != 9:\n",
    "        dprows.append(i)\n",
    "\n",
    "vfleet = vfleet.drop(dprows)"
   ]
  },
  {
   "cell_type": "code",
   "execution_count": null,
   "metadata": {},
   "outputs": [],
   "source": [
    "#get total vechicle fleet per county\n",
    "sum_cols = list(vfleet)\n",
    "\n",
    "del sum_cols[0:3]\n",
    "\n",
    "vfleet['total_fleet'] = vfleet[sum_cols].sum(axis=1)\n",
    "\n",
    "vfleet"
   ]
  },
  {
   "cell_type": "code",
   "execution_count": null,
   "metadata": {},
   "outputs": [],
   "source": [
    "#renaming column values\n",
    "vfleet = vfleet.replace({\"ID_MUNICIPIO\": {5 : \"GAM\",\n",
    "                               10 : \"AOB\",\n",
    "                              4 : \"CUA\",\n",
    "                              7 : \"IZP\",\n",
    "                              2: \"AZC\",\n",
    "                              12 : \"TLA\",\n",
    "                              16 : \"MHI\",\n",
    "                              15 : \"CUH\",\n",
    "                              6 : \"IZC\",\n",
    "                              17 : \"VCA\",\n",
    "                              8 : \"MCO\",\n",
    "                              14 : \"BJU\",\n",
    "                              3 : \"COY\",\n",
    "                              13 : \"XOC\",\n",
    "                              11 : \"TLH\",\n",
    "                              9 : \"MAL\"}\n",
    "                        })"
   ]
  },
  {
   "cell_type": "code",
   "execution_count": null,
   "metadata": {},
   "outputs": [],
   "source": [
    "#create copy of df18 and drop duplicated reports\n",
    "unique18 = df18.copy()\n",
    "\n",
    "dup = []\n",
    "for i, row in unique18.iterrows():\n",
    "    if (row[\"incident_code\"] == \"duplicated\") or (row[\"incident_code\"] == \"false\") or (row[\"incident_code\"] == \"not found\"):\n",
    "        dup.append(i)\n",
    "\n",
    "unique18 = unique18.drop(dup)"
   ]
  },
  {
   "cell_type": "code",
   "execution_count": null,
   "metadata": {},
   "outputs": [],
   "source": [
    "#get total of incicents per county\n",
    "incidents_county18 = unique18.groupby(\"start_county\").count()[\"folio\"]\n",
    "\n",
    "total_incidents18 = pd.DataFrame({\"total_incident\": incidents_county18})"
   ]
  },
  {
   "cell_type": "code",
   "execution_count": null,
   "metadata": {},
   "outputs": [],
   "source": [
    "rate_incident = vfleet.merge(total_incidents18, left_on=\"ID_MUNICIPIO\", right_on=\"start_county\")"
   ]
  },
  {
   "cell_type": "code",
   "execution_count": null,
   "metadata": {},
   "outputs": [],
   "source": [
    "#calculate incident rate for every 10k vehicles, per county\n",
    "for i,row in rate_incident.iterrows():\n",
    "    rate_incident.at[i, \"rate_incident\"] = row[\"total_incident\"] / (row[\"total_fleet\"] / 10000)"
   ]
  },
  {
   "cell_type": "code",
   "execution_count": null,
   "metadata": {},
   "outputs": [],
   "source": [
    "rate_incident"
   ]
  },
  {
   "cell_type": "code",
   "execution_count": null,
   "metadata": {},
   "outputs": [],
   "source": [
    "rate_incident.to_csv(\"rate_incident_10k.csv\")"
   ]
  },
  {
   "cell_type": "markdown",
   "metadata": {},
   "source": [
    "# 3. Waffle charts"
   ]
  },
  {
   "cell_type": "code",
   "execution_count": null,
   "metadata": {},
   "outputs": [],
   "source": [
    "def table_waffle(df):\n",
    "    wdf = df.copy()\n",
    "    \n",
    "    wdf = wdf.drop([\"folio\", \"start_hour\", \"weekday\", \"incident_code\", \"end_date\", \"end_hour\", \"start_county\", \"lat\",\n",
    "             \"lng\", \"class_incident\", \"aid_channel\", \"end_county\", \"geopoint\", \"time_response\"], axis=1)\n",
    "    \n",
    "    wdf[\"count\"] = 1\n",
    "    \n",
    "    for i, row in wdf.iterrows():\n",
    "        wdf.at[i,\"start_date\"] = row[\"start_date\"].split(\"/\")[2]\n",
    "    \n",
    "    wdf = wdf.replace({\"type_incident\":{\"accidente-volcadura \" : \"Otros\",\n",
    "                               \"accidente-ciclista\" : \"Otros\",\n",
    "                               \"accidente-persona atrapada / desbarrancada\" : \"Otros\",\n",
    "                               \"accidente-vehículo atrapado-varado\" : \"Otros\",\n",
    "                                   \"accidente-choque con prensados\" : \"Otros\",\n",
    "                                   \"cadáver-atropellado\" : \"Otros\",\n",
    "                                   \"cadáver-accidente automovilístico\" : \"Otros\",\n",
    "                                   \"sismo-choque con lesionados\" : \"Otros\",\n",
    "                                   \"detención ciudadana-atropellado\" : \"Otros\",\n",
    "                                   \"accidente-vehiculo desbarrancado\" : \"Otros\",\n",
    "                                   \"accidente-otros\" : \"Otros\",\n",
    "                                   \"detención ciudadana-accidente automovilístico\" : \"Otros\",\n",
    "                                   \"Detención ciudadana-accidente automovilístico\" : \"Otros\",\n",
    "                                   \"accidente-ferroviario\" : \"Otros\",\n",
    "                                   \"accidente-monopatín\" : \"Otros\",\n",
    "                                   \"sismo-persona atropellada\" : \"Otros\",\n",
    "                                   \"accidente-volcadura\" : \"Otros\",\n",
    "                                   \"accidente-vehiculo atrapado\" : \"Otros\",\n",
    "                                    \"sismo-choque sin lesionados\" : \"Otros\",\n",
    "                                    \"sismo-choque con prensados\" : \"Otros\"}\n",
    "                  })\n",
    "    return wdf"
   ]
  },
  {
   "cell_type": "code",
   "execution_count": null,
   "metadata": {},
   "outputs": [],
   "source": [
    "w17 = table_waffle(df17)\n",
    "w18 = table_waffle(df18)\n",
    "w19 = table_waffle(df19)\n",
    "w20 = table_waffle(df20)"
   ]
  },
  {
   "cell_type": "code",
   "execution_count": null,
   "metadata": {},
   "outputs": [],
   "source": [
    "waffle_1720 = pd.concat([w17, w18, w19, w20], ignore_index=True)"
   ]
  },
  {
   "cell_type": "code",
   "execution_count": null,
   "metadata": {},
   "outputs": [],
   "source": [
    "wtotals = waffle_1720.groupby([\"start_date\", \"type_incident\"]).sum()"
   ]
  },
  {
   "cell_type": "code",
   "execution_count": null,
   "metadata": {},
   "outputs": [],
   "source": [
    "wtotals.to_csv(\"waffle_1720.csv\")"
   ]
  },
  {
   "cell_type": "markdown",
   "metadata": {},
   "source": [
    "# 4. Incident rate json"
   ]
  },
  {
   "cell_type": "code",
   "execution_count": 149,
   "metadata": {},
   "outputs": [],
   "source": [
    "i_rate = pd.read_csv(\"rate_incident_10k.csv\")"
   ]
  },
  {
   "cell_type": "code",
   "execution_count": 150,
   "metadata": {},
   "outputs": [],
   "source": [
    "i_rate = i_rate.replace({\"ID_MUNICIPIO\":{\n",
    "                                        \"AZC\" : \"Azcapotzalco\",\n",
    "                                        \"COY\" : \"Coyoacán\",\n",
    "                                        \"CUA\" : \"Cuajimalpa\",\n",
    "                                        \"GAM\" : \"Gustavo A. Madero\",\n",
    "                                        \"IZC\" : \"Iztacalco\",\n",
    "                                        \"IZP\" : \"Iztapalapa\",\n",
    "                                        \"MCO\" : \"Magdalena Contreras\",\n",
    "                                        \"MAL\" : \"Milpa Alta\",\n",
    "                                        \"AOB\" : \"Álvaro Obregón\",\n",
    "                                        \"TLH\" : \"Tláhuac\",\n",
    "                                        \"TLA\" : \"Tlalpan\",\n",
    "                                        \"XOC\" : \"Xochimilco\",\n",
    "                                        \"BJU\" : \"Benito Juárez\",\n",
    "                                        \"MHI\" : \"Miguel Hidalgo\",\n",
    "                                        \"VCA\" : \"Venustiano Carranza\",\n",
    "                                        \"CUH\" : \"Cuauhtémoc\"}\n",
    "                                        })"
   ]
  },
  {
   "cell_type": "code",
   "execution_count": 151,
   "metadata": {},
   "outputs": [],
   "source": [
    "#drop leftover columns\n",
    "i_cols = list(i_rate)\n",
    "\n",
    "del i_cols[3]\n",
    "\n",
    "del i_cols[-3:]\n",
    "\n",
    "i_rate = i_rate.drop(i_cols, axis=1)"
   ]
  },
  {
   "cell_type": "code",
   "execution_count": 152,
   "metadata": {},
   "outputs": [],
   "source": [
    "#round rate incident\n",
    "for i, row in i_rate.iterrows():\n",
    "    round_rate = round(row[\"rate_incident\"])\n",
    "    i_rate.at[i, \"rate_incident\"] = round_rate\n",
    "\n",
    "i_rate[\"rate_incident\"] = i_rate[\"rate_incident\"].astype(int)"
   ]
  },
  {
   "cell_type": "code",
   "execution_count": 153,
   "metadata": {},
   "outputs": [
    {
     "data": {
      "text/html": [
       "<div>\n",
       "<style scoped>\n",
       "    .dataframe tbody tr th:only-of-type {\n",
       "        vertical-align: middle;\n",
       "    }\n",
       "\n",
       "    .dataframe tbody tr th {\n",
       "        vertical-align: top;\n",
       "    }\n",
       "\n",
       "    .dataframe thead th {\n",
       "        text-align: right;\n",
       "    }\n",
       "</style>\n",
       "<table border=\"1\" class=\"dataframe\">\n",
       "  <thead>\n",
       "    <tr style=\"text-align: right;\">\n",
       "      <th></th>\n",
       "      <th>ID_MUNICIPIO</th>\n",
       "      <th>total_fleet</th>\n",
       "      <th>total_incident</th>\n",
       "      <th>rate_incident</th>\n",
       "    </tr>\n",
       "  </thead>\n",
       "  <tbody>\n",
       "    <tr>\n",
       "      <td>0</td>\n",
       "      <td>Azcapotzalco</td>\n",
       "      <td>311310</td>\n",
       "      <td>3709</td>\n",
       "      <td>119</td>\n",
       "    </tr>\n",
       "    <tr>\n",
       "      <td>1</td>\n",
       "      <td>Coyoacán</td>\n",
       "      <td>498273</td>\n",
       "      <td>5576</td>\n",
       "      <td>112</td>\n",
       "    </tr>\n",
       "    <tr>\n",
       "      <td>2</td>\n",
       "      <td>Cuajimalpa</td>\n",
       "      <td>157039</td>\n",
       "      <td>1240</td>\n",
       "      <td>79</td>\n",
       "    </tr>\n",
       "    <tr>\n",
       "      <td>3</td>\n",
       "      <td>Gustavo A. Madero</td>\n",
       "      <td>588619</td>\n",
       "      <td>8262</td>\n",
       "      <td>140</td>\n",
       "    </tr>\n",
       "    <tr>\n",
       "      <td>4</td>\n",
       "      <td>Iztacalco</td>\n",
       "      <td>253685</td>\n",
       "      <td>3444</td>\n",
       "      <td>136</td>\n",
       "    </tr>\n",
       "    <tr>\n",
       "      <td>5</td>\n",
       "      <td>Iztapalapa</td>\n",
       "      <td>773593</td>\n",
       "      <td>10474</td>\n",
       "      <td>135</td>\n",
       "    </tr>\n",
       "    <tr>\n",
       "      <td>6</td>\n",
       "      <td>Magdalena Contreras</td>\n",
       "      <td>132052</td>\n",
       "      <td>1012</td>\n",
       "      <td>77</td>\n",
       "    </tr>\n",
       "    <tr>\n",
       "      <td>7</td>\n",
       "      <td>Milpa Alta</td>\n",
       "      <td>55756</td>\n",
       "      <td>482</td>\n",
       "      <td>86</td>\n",
       "    </tr>\n",
       "    <tr>\n",
       "      <td>8</td>\n",
       "      <td>Álvaro Obregón</td>\n",
       "      <td>434976</td>\n",
       "      <td>5537</td>\n",
       "      <td>127</td>\n",
       "    </tr>\n",
       "    <tr>\n",
       "      <td>9</td>\n",
       "      <td>Tláhuac</td>\n",
       "      <td>135607</td>\n",
       "      <td>1766</td>\n",
       "      <td>130</td>\n",
       "    </tr>\n",
       "    <tr>\n",
       "      <td>10</td>\n",
       "      <td>Tlalpan</td>\n",
       "      <td>405755</td>\n",
       "      <td>4471</td>\n",
       "      <td>110</td>\n",
       "    </tr>\n",
       "    <tr>\n",
       "      <td>11</td>\n",
       "      <td>Xochimilco</td>\n",
       "      <td>184750</td>\n",
       "      <td>2399</td>\n",
       "      <td>130</td>\n",
       "    </tr>\n",
       "    <tr>\n",
       "      <td>12</td>\n",
       "      <td>Benito Juárez</td>\n",
       "      <td>519475</td>\n",
       "      <td>6332</td>\n",
       "      <td>122</td>\n",
       "    </tr>\n",
       "    <tr>\n",
       "      <td>13</td>\n",
       "      <td>Cuauhtémoc</td>\n",
       "      <td>534644</td>\n",
       "      <td>9471</td>\n",
       "      <td>177</td>\n",
       "    </tr>\n",
       "    <tr>\n",
       "      <td>14</td>\n",
       "      <td>Miguel Hidalgo</td>\n",
       "      <td>526632</td>\n",
       "      <td>6372</td>\n",
       "      <td>121</td>\n",
       "    </tr>\n",
       "    <tr>\n",
       "      <td>15</td>\n",
       "      <td>Venustiano Carranza</td>\n",
       "      <td>289303</td>\n",
       "      <td>5536</td>\n",
       "      <td>191</td>\n",
       "    </tr>\n",
       "  </tbody>\n",
       "</table>\n",
       "</div>"
      ],
      "text/plain": [
       "           ID_MUNICIPIO  total_fleet  total_incident  rate_incident\n",
       "0          Azcapotzalco       311310            3709            119\n",
       "1              Coyoacán       498273            5576            112\n",
       "2            Cuajimalpa       157039            1240             79\n",
       "3     Gustavo A. Madero       588619            8262            140\n",
       "4             Iztacalco       253685            3444            136\n",
       "5            Iztapalapa       773593           10474            135\n",
       "6   Magdalena Contreras       132052            1012             77\n",
       "7            Milpa Alta        55756             482             86\n",
       "8        Álvaro Obregón       434976            5537            127\n",
       "9               Tláhuac       135607            1766            130\n",
       "10              Tlalpan       405755            4471            110\n",
       "11           Xochimilco       184750            2399            130\n",
       "12        Benito Juárez       519475            6332            122\n",
       "13           Cuauhtémoc       534644            9471            177\n",
       "14       Miguel Hidalgo       526632            6372            121\n",
       "15  Venustiano Carranza       289303            5536            191"
      ]
     },
     "execution_count": 153,
     "metadata": {},
     "output_type": "execute_result"
    }
   ],
   "source": [
    "i_rate"
   ]
  },
  {
   "cell_type": "code",
   "execution_count": 154,
   "metadata": {},
   "outputs": [],
   "source": [
    "i_dict = i_rate.to_dict(orient = 'records')"
   ]
  },
  {
   "cell_type": "code",
   "execution_count": 155,
   "metadata": {},
   "outputs": [],
   "source": [
    "with open('rates_county18.json', 'w') as file:\n",
    "    json.dump(i_dict, file)"
   ]
  },
  {
   "cell_type": "code",
   "execution_count": 148,
   "metadata": {},
   "outputs": [],
   "source": [
    "#i_rate.to_dict(r'rates_county18.json', orient = 'records')"
   ]
  },
  {
   "cell_type": "markdown",
   "metadata": {},
   "source": [
    "# 5. C5 and C2 locations (json)"
   ]
  },
  {
   "cell_type": "code",
   "execution_count": null,
   "metadata": {},
   "outputs": [],
   "source": [
    "centers = pd.read_csv(\"data/centers/c5_c2_centers.csv\")"
   ]
  },
  {
   "cell_type": "code",
   "execution_count": null,
   "metadata": {},
   "outputs": [],
   "source": [
    "centers"
   ]
  },
  {
   "cell_type": "code",
   "execution_count": null,
   "metadata": {},
   "outputs": [],
   "source": [
    "centers_loc = []\n",
    "for i, row in centers.iterrows():\n",
    "    center = {}\n",
    "    center[\"Name\"] = row[\"Nombre\"]\n",
    "    center[\"County\"] = row[\"Alcaldia\"]\n",
    "    center[\"Location\"] = [row[\"lat\"], row[\"long\"]]\n",
    "    centers_loc.append(center)"
   ]
  },
  {
   "cell_type": "code",
   "execution_count": null,
   "metadata": {},
   "outputs": [],
   "source": [
    "with open('centers_loc.json', 'w') as file:\n",
    "    json.dump(centers_loc, file)"
   ]
  },
  {
   "cell_type": "markdown",
   "metadata": {},
   "source": [
    "# 6. C5 cameras (json)"
   ]
  },
  {
   "cell_type": "code",
   "execution_count": 156,
   "metadata": {},
   "outputs": [],
   "source": [
    "cameras = pd.read_csv(\"data/cameras/c5_cameras.csv\")"
   ]
  },
  {
   "cell_type": "code",
   "execution_count": 157,
   "metadata": {},
   "outputs": [
    {
     "data": {
      "text/html": [
       "<div>\n",
       "<style scoped>\n",
       "    .dataframe tbody tr th:only-of-type {\n",
       "        vertical-align: middle;\n",
       "    }\n",
       "\n",
       "    .dataframe tbody tr th {\n",
       "        vertical-align: top;\n",
       "    }\n",
       "\n",
       "    .dataframe thead th {\n",
       "        text-align: right;\n",
       "    }\n",
       "</style>\n",
       "<table border=\"1\" class=\"dataframe\">\n",
       "  <thead>\n",
       "    <tr style=\"text-align: right;\">\n",
       "      <th></th>\n",
       "      <th>ESQUINA</th>\n",
       "      <th>COLONIA</th>\n",
       "      <th>ALCALDIA</th>\n",
       "      <th>BOTON</th>\n",
       "      <th>ALTAVOZ</th>\n",
       "      <th>LONGITUD</th>\n",
       "      <th>LATITUD</th>\n",
       "      <th>geopoint</th>\n",
       "      <th>TIPO DE POSTE</th>\n",
       "      <th>ESTATUS CONECTIVIDAD</th>\n",
       "      <th>INCREMENTO 100 Mbps</th>\n",
       "    </tr>\n",
       "  </thead>\n",
       "  <tbody>\n",
       "    <tr>\n",
       "      <td>0</td>\n",
       "      <td>ENTRE C. ROSA TREPADORA Y C. DR. S. GONZALEZ H...</td>\n",
       "      <td>TORRES DE MIXCOAC</td>\n",
       "      <td>ALVARO OBREGON</td>\n",
       "      <td>SIN BOTON</td>\n",
       "      <td>CON ALTAVOZ</td>\n",
       "      <td>-99.191936</td>\n",
       "      <td>19.371661</td>\n",
       "      <td>19.371661,-99.191936</td>\n",
       "      <td>9m</td>\n",
       "      <td>WIFI GRATUITO_ACTIVO</td>\n",
       "      <td>SI</td>\n",
       "    </tr>\n",
       "    <tr>\n",
       "      <td>1</td>\n",
       "      <td>C. ROSA TREPADORA</td>\n",
       "      <td>MOLINO DE ROSAS</td>\n",
       "      <td>ALVARO OBREGON</td>\n",
       "      <td>CON BOTON</td>\n",
       "      <td>CON ALTAVOZ</td>\n",
       "      <td>-99.193498</td>\n",
       "      <td>19.372175</td>\n",
       "      <td>19.372175,-99.193498</td>\n",
       "      <td>9m</td>\n",
       "      <td>WIFI GRATUITO_ACTIVO</td>\n",
       "      <td>SI</td>\n",
       "    </tr>\n",
       "  </tbody>\n",
       "</table>\n",
       "</div>"
      ],
      "text/plain": [
       "                                             ESQUINA            COLONIA  \\\n",
       "0  ENTRE C. ROSA TREPADORA Y C. DR. S. GONZALEZ H...  TORRES DE MIXCOAC   \n",
       "1                                  C. ROSA TREPADORA    MOLINO DE ROSAS   \n",
       "\n",
       "         ALCALDIA      BOTON      ALTAVOZ  LONGITUD    LATITUD   \\\n",
       "0  ALVARO OBREGON  SIN BOTON  CON ALTAVOZ -99.191936  19.371661   \n",
       "1  ALVARO OBREGON  CON BOTON  CON ALTAVOZ -99.193498  19.372175   \n",
       "\n",
       "               geopoint TIPO DE POSTE  ESTATUS CONECTIVIDAD  \\\n",
       "0  19.371661,-99.191936            9m  WIFI GRATUITO_ACTIVO   \n",
       "1  19.372175,-99.193498            9m  WIFI GRATUITO_ACTIVO   \n",
       "\n",
       "  INCREMENTO 100 Mbps  \n",
       "0                  SI  \n",
       "1                  SI  "
      ]
     },
     "execution_count": 157,
     "metadata": {},
     "output_type": "execute_result"
    }
   ],
   "source": [
    "cameras.head(2)"
   ]
  },
  {
   "cell_type": "code",
   "execution_count": 159,
   "metadata": {},
   "outputs": [
    {
     "data": {
      "text/plain": [
       "ALCALDIA\n",
       "ALVARO OBREGON          899\n",
       "AZCAPOTZALCO            707\n",
       "BENITO JUAREZ           796\n",
       "COYOACAN                907\n",
       "CUAJIMALPA              239\n",
       "CUAUHTEMOC             1448\n",
       "GUSTAVO A. MADERO      1790\n",
       "IZTACALCO               664\n",
       "IZTAPALAPA             2100\n",
       "MAGDALENA CONTRERAS     305\n",
       "MIGUEL HIDALGO          926\n",
       "MILPA ALTA              214\n",
       "TLAHUAC                 540\n",
       "TLALPAN                 753\n",
       "VENUSTIANO CARRANZA     990\n",
       "XOCHIMILCO              416\n",
       "Name: TIPO DE POSTE, dtype: int64"
      ]
     },
     "execution_count": 159,
     "metadata": {},
     "output_type": "execute_result"
    }
   ],
   "source": [
    "cameras.groupby([\"ALCALDIA\"])[\"TIPO DE POSTE\"].count()"
   ]
  },
  {
   "cell_type": "code",
   "execution_count": null,
   "metadata": {},
   "outputs": [],
   "source": [
    "wtotals = waffle_1720.groupby([\"start_date\", \"type_incident\"]).sum()"
   ]
  },
  {
   "cell_type": "code",
   "execution_count": null,
   "metadata": {},
   "outputs": [],
   "source": [
    "cameras_loc = []\n",
    "for i, row in cameras.iterrows():\n",
    "    camera = {}\n",
    "    county = \"\"\n",
    "    for word in row[\"ALCALDIA\"].split():\n",
    "        county += word.capitalize() + \" \"\n",
    "    camera[\"County\"] = county[:-1]\n",
    "    camera[\"Location\"] = [row[\"LATITUD \"], row[\"LONGITUD \"]]\n",
    "    cameras_loc.append(camera)"
   ]
  },
  {
   "cell_type": "code",
   "execution_count": null,
   "metadata": {},
   "outputs": [],
   "source": [
    "len(cameras_loc)"
   ]
  },
  {
   "cell_type": "code",
   "execution_count": null,
   "metadata": {},
   "outputs": [],
   "source": [
    "with open('cameras_loc.json', 'w') as file:\n",
    "    json.dump(cameras_loc, file)"
   ]
  },
  {
   "cell_type": "markdown",
   "metadata": {},
   "source": [
    "# 7. Counties (geojson)"
   ]
  },
  {
   "cell_type": "code",
   "execution_count": 121,
   "metadata": {},
   "outputs": [],
   "source": [
    "poligonos = gp.read_file(\"data/counties/counties.csv\")"
   ]
  },
  {
   "cell_type": "code",
   "execution_count": 111,
   "metadata": {},
   "outputs": [],
   "source": [
    "#poligonos = pd.read_csv(\"data/counties/counties.csv\")"
   ]
  },
  {
   "cell_type": "code",
   "execution_count": 122,
   "metadata": {
    "scrolled": true
   },
   "outputs": [
    {
     "data": {
      "text/html": [
       "<div>\n",
       "<style scoped>\n",
       "    .dataframe tbody tr th:only-of-type {\n",
       "        vertical-align: middle;\n",
       "    }\n",
       "\n",
       "    .dataframe tbody tr th {\n",
       "        vertical-align: top;\n",
       "    }\n",
       "\n",
       "    .dataframe thead th {\n",
       "        text-align: right;\n",
       "    }\n",
       "</style>\n",
       "<table border=\"1\" class=\"dataframe\">\n",
       "  <thead>\n",
       "    <tr style=\"text-align: right;\">\n",
       "      <th></th>\n",
       "      <th>NOMBRE</th>\n",
       "      <th>CLAVE_MUNICIPAL</th>\n",
       "      <th>CVE_ENTIDAD</th>\n",
       "      <th>CVEGEO</th>\n",
       "      <th>Geo Point</th>\n",
       "      <th>Geo Shape</th>\n",
       "      <th>municipio</th>\n",
       "      <th>geometry</th>\n",
       "    </tr>\n",
       "  </thead>\n",
       "  <tbody>\n",
       "    <tr>\n",
       "      <td>0</td>\n",
       "      <td>Milpa Alta</td>\n",
       "      <td>009</td>\n",
       "      <td>09</td>\n",
       "      <td>09009</td>\n",
       "      <td>19.1394565999,-99.0510954218</td>\n",
       "      <td>{\"type\": \"Polygon\", \"coordinates\": [[[-98.9972...</td>\n",
       "      <td>9</td>\n",
       "      <td>None</td>\n",
       "    </tr>\n",
       "    <tr>\n",
       "      <td>1</td>\n",
       "      <td>Benito JuÃ¡rez</td>\n",
       "      <td>014</td>\n",
       "      <td>09</td>\n",
       "      <td>09014</td>\n",
       "      <td>19.3806424162,-99.1611346584</td>\n",
       "      <td>{\"type\": \"Polygon\", \"coordinates\": [[[-99.1367...</td>\n",
       "      <td>14</td>\n",
       "      <td>None</td>\n",
       "    </tr>\n",
       "    <tr>\n",
       "      <td>2</td>\n",
       "      <td>Gustavo A. Madero</td>\n",
       "      <td>005</td>\n",
       "      <td>09</td>\n",
       "      <td>09005</td>\n",
       "      <td>19.5040652077,-99.1158642087</td>\n",
       "      <td>{\"type\": \"Polygon\", \"coordinates\": [[[-99.1185...</td>\n",
       "      <td>5</td>\n",
       "      <td>None</td>\n",
       "    </tr>\n",
       "  </tbody>\n",
       "</table>\n",
       "</div>"
      ],
      "text/plain": [
       "              NOMBRE CLAVE_MUNICIPAL CVE_ENTIDAD CVEGEO  \\\n",
       "0         Milpa Alta             009          09  09009   \n",
       "1     Benito JuÃ¡rez             014          09  09014   \n",
       "2  Gustavo A. Madero             005          09  09005   \n",
       "\n",
       "                      Geo Point  \\\n",
       "0  19.1394565999,-99.0510954218   \n",
       "1  19.3806424162,-99.1611346584   \n",
       "2  19.5040652077,-99.1158642087   \n",
       "\n",
       "                                           Geo Shape municipio geometry  \n",
       "0  {\"type\": \"Polygon\", \"coordinates\": [[[-98.9972...         9     None  \n",
       "1  {\"type\": \"Polygon\", \"coordinates\": [[[-99.1367...        14     None  \n",
       "2  {\"type\": \"Polygon\", \"coordinates\": [[[-99.1185...         5     None  "
      ]
     },
     "execution_count": 122,
     "metadata": {},
     "output_type": "execute_result"
    }
   ],
   "source": [
    "poligonos.head(3)"
   ]
  },
  {
   "cell_type": "code",
   "execution_count": 113,
   "metadata": {},
   "outputs": [
    {
     "data": {
      "text/plain": [
       "str"
      ]
     },
     "execution_count": 113,
     "metadata": {},
     "output_type": "execute_result"
    }
   ],
   "source": [
    "type(poligonos[\"Geo Shape\"][0])"
   ]
  },
  {
   "cell_type": "code",
   "execution_count": 123,
   "metadata": {},
   "outputs": [],
   "source": [
    "i = 0\n",
    "for x in poligonos[\"Geo Shape\"]:\n",
    "    pol = json.loads(x)\n",
    "    new_coords = [[]]\n",
    "    for coord in pol[\"coordinates\"][0]:\n",
    "        new_coords[0].append(coord[::-1])\n",
    "    pol[\"coordinates\"] = new_coords\n",
    "    poligonos.at[i, \"Geo Shape\"] = json.dumps(pol) \n",
    "    i += 1"
   ]
  },
  {
   "cell_type": "code",
   "execution_count": 124,
   "metadata": {},
   "outputs": [],
   "source": [
    "poligonos = poligonos.drop([\"CLAVE_MUNICIPAL\", \"CVE_ENTIDAD\", \"municipio\", \"NOMBRE\"], axis=1)"
   ]
  },
  {
   "cell_type": "code",
   "execution_count": 125,
   "metadata": {},
   "outputs": [
    {
     "data": {
      "text/plain": [
       "str"
      ]
     },
     "execution_count": 125,
     "metadata": {},
     "output_type": "execute_result"
    }
   ],
   "source": [
    "type(poligonos[\"Geo Shape\"][0])"
   ]
  },
  {
   "cell_type": "code",
   "execution_count": 126,
   "metadata": {
    "scrolled": true
   },
   "outputs": [
    {
     "data": {
      "text/html": [
       "<div>\n",
       "<style scoped>\n",
       "    .dataframe tbody tr th:only-of-type {\n",
       "        vertical-align: middle;\n",
       "    }\n",
       "\n",
       "    .dataframe tbody tr th {\n",
       "        vertical-align: top;\n",
       "    }\n",
       "\n",
       "    .dataframe thead th {\n",
       "        text-align: right;\n",
       "    }\n",
       "</style>\n",
       "<table border=\"1\" class=\"dataframe\">\n",
       "  <thead>\n",
       "    <tr style=\"text-align: right;\">\n",
       "      <th></th>\n",
       "      <th>CVEGEO</th>\n",
       "      <th>Geo Point</th>\n",
       "      <th>Geo Shape</th>\n",
       "      <th>geometry</th>\n",
       "    </tr>\n",
       "  </thead>\n",
       "  <tbody>\n",
       "    <tr>\n",
       "      <td>0</td>\n",
       "      <td>09009</td>\n",
       "      <td>19.1394565999,-99.0510954218</td>\n",
       "      <td>{\"type\": \"Polygon\", \"coordinates\": [[[19.22731...</td>\n",
       "      <td>None</td>\n",
       "    </tr>\n",
       "    <tr>\n",
       "      <td>1</td>\n",
       "      <td>09014</td>\n",
       "      <td>19.3806424162,-99.1611346584</td>\n",
       "      <td>{\"type\": \"Polygon\", \"coordinates\": [[[19.40155...</td>\n",
       "      <td>None</td>\n",
       "    </tr>\n",
       "    <tr>\n",
       "      <td>2</td>\n",
       "      <td>09005</td>\n",
       "      <td>19.5040652077,-99.1158642087</td>\n",
       "      <td>{\"type\": \"Polygon\", \"coordinates\": [[[19.58446...</td>\n",
       "      <td>None</td>\n",
       "    </tr>\n",
       "    <tr>\n",
       "      <td>3</td>\n",
       "      <td>09003</td>\n",
       "      <td>19.3266672536,-99.1503763525</td>\n",
       "      <td>{\"type\": \"Polygon\", \"coordinates\": [[[19.35686...</td>\n",
       "      <td>None</td>\n",
       "    </tr>\n",
       "    <tr>\n",
       "      <td>4</td>\n",
       "      <td>09016</td>\n",
       "      <td>19.4280623649,-99.2045669144</td>\n",
       "      <td>{\"type\": \"Polygon\", \"coordinates\": [[[19.46793...</td>\n",
       "      <td>None</td>\n",
       "    </tr>\n",
       "    <tr>\n",
       "      <td>5</td>\n",
       "      <td>09008</td>\n",
       "      <td>19.2689765031,-99.2684129061</td>\n",
       "      <td>{\"type\": \"Polygon\", \"coordinates\": [[[19.33609...</td>\n",
       "      <td>None</td>\n",
       "    </tr>\n",
       "    <tr>\n",
       "      <td>6</td>\n",
       "      <td>09011</td>\n",
       "      <td>19.2769983772,-99.0028216137</td>\n",
       "      <td>{\"type\": \"Polygon\", \"coordinates\": [[[19.32393...</td>\n",
       "      <td>None</td>\n",
       "    </tr>\n",
       "    <tr>\n",
       "      <td>7</td>\n",
       "      <td>09002</td>\n",
       "      <td>19.4853286147,-99.1821069423</td>\n",
       "      <td>{\"type\": \"Polygon\", \"coordinates\": [[[19.50747...</td>\n",
       "      <td>None</td>\n",
       "    </tr>\n",
       "    <tr>\n",
       "      <td>8</td>\n",
       "      <td>09006</td>\n",
       "      <td>19.396911897,-99.094329797</td>\n",
       "      <td>{\"type\": \"Polygon\", \"coordinates\": [[[19.42196...</td>\n",
       "      <td>None</td>\n",
       "    </tr>\n",
       "    <tr>\n",
       "      <td>9</td>\n",
       "      <td>09010</td>\n",
       "      <td>19.336175562,-99.246819712</td>\n",
       "      <td>{\"type\": \"Polygon\", \"coordinates\": [[[19.39474...</td>\n",
       "      <td>None</td>\n",
       "    </tr>\n",
       "    <tr>\n",
       "      <td>10</td>\n",
       "      <td>09013</td>\n",
       "      <td>19.2451450458,-99.0903636045</td>\n",
       "      <td>{\"type\": \"Polygon\", \"coordinates\": [[[19.31964...</td>\n",
       "      <td>None</td>\n",
       "    </tr>\n",
       "    <tr>\n",
       "      <td>11</td>\n",
       "      <td>09017</td>\n",
       "      <td>19.4304954545,-99.0931057959</td>\n",
       "      <td>{\"type\": \"Polygon\", \"coordinates\": [[[19.45273...</td>\n",
       "      <td>None</td>\n",
       "    </tr>\n",
       "    <tr>\n",
       "      <td>12</td>\n",
       "      <td>09012</td>\n",
       "      <td>19.1983396763,-99.2062207957</td>\n",
       "      <td>{\"type\": \"Polygon\", \"coordinates\": [[[19.30227...</td>\n",
       "      <td>None</td>\n",
       "    </tr>\n",
       "    <tr>\n",
       "      <td>13</td>\n",
       "      <td>09004</td>\n",
       "      <td>19.3246343001,-99.3107285253</td>\n",
       "      <td>{\"type\": \"Polygon\", \"coordinates\": [[[19.40043...</td>\n",
       "      <td>None</td>\n",
       "    </tr>\n",
       "    <tr>\n",
       "      <td>14</td>\n",
       "      <td>09015</td>\n",
       "      <td>19.4313734294,-99.1490557562</td>\n",
       "      <td>{\"type\": \"Polygon\", \"coordinates\": [[[19.46246...</td>\n",
       "      <td>None</td>\n",
       "    </tr>\n",
       "    <tr>\n",
       "      <td>15</td>\n",
       "      <td>09007</td>\n",
       "      <td>19.3491663204,-99.0567989642</td>\n",
       "      <td>{\"type\": \"Polygon\", \"coordinates\": [[[19.40071...</td>\n",
       "      <td>None</td>\n",
       "    </tr>\n",
       "  </tbody>\n",
       "</table>\n",
       "</div>"
      ],
      "text/plain": [
       "   CVEGEO                     Geo Point  \\\n",
       "0   09009  19.1394565999,-99.0510954218   \n",
       "1   09014  19.3806424162,-99.1611346584   \n",
       "2   09005  19.5040652077,-99.1158642087   \n",
       "3   09003  19.3266672536,-99.1503763525   \n",
       "4   09016  19.4280623649,-99.2045669144   \n",
       "5   09008  19.2689765031,-99.2684129061   \n",
       "6   09011  19.2769983772,-99.0028216137   \n",
       "7   09002  19.4853286147,-99.1821069423   \n",
       "8   09006    19.396911897,-99.094329797   \n",
       "9   09010    19.336175562,-99.246819712   \n",
       "10  09013  19.2451450458,-99.0903636045   \n",
       "11  09017  19.4304954545,-99.0931057959   \n",
       "12  09012  19.1983396763,-99.2062207957   \n",
       "13  09004  19.3246343001,-99.3107285253   \n",
       "14  09015  19.4313734294,-99.1490557562   \n",
       "15  09007  19.3491663204,-99.0567989642   \n",
       "\n",
       "                                            Geo Shape geometry  \n",
       "0   {\"type\": \"Polygon\", \"coordinates\": [[[19.22731...     None  \n",
       "1   {\"type\": \"Polygon\", \"coordinates\": [[[19.40155...     None  \n",
       "2   {\"type\": \"Polygon\", \"coordinates\": [[[19.58446...     None  \n",
       "3   {\"type\": \"Polygon\", \"coordinates\": [[[19.35686...     None  \n",
       "4   {\"type\": \"Polygon\", \"coordinates\": [[[19.46793...     None  \n",
       "5   {\"type\": \"Polygon\", \"coordinates\": [[[19.33609...     None  \n",
       "6   {\"type\": \"Polygon\", \"coordinates\": [[[19.32393...     None  \n",
       "7   {\"type\": \"Polygon\", \"coordinates\": [[[19.50747...     None  \n",
       "8   {\"type\": \"Polygon\", \"coordinates\": [[[19.42196...     None  \n",
       "9   {\"type\": \"Polygon\", \"coordinates\": [[[19.39474...     None  \n",
       "10  {\"type\": \"Polygon\", \"coordinates\": [[[19.31964...     None  \n",
       "11  {\"type\": \"Polygon\", \"coordinates\": [[[19.45273...     None  \n",
       "12  {\"type\": \"Polygon\", \"coordinates\": [[[19.30227...     None  \n",
       "13  {\"type\": \"Polygon\", \"coordinates\": [[[19.40043...     None  \n",
       "14  {\"type\": \"Polygon\", \"coordinates\": [[[19.46246...     None  \n",
       "15  {\"type\": \"Polygon\", \"coordinates\": [[[19.40071...     None  "
      ]
     },
     "execution_count": 126,
     "metadata": {},
     "output_type": "execute_result"
    }
   ],
   "source": [
    "poligonos"
   ]
  },
  {
   "cell_type": "code",
   "execution_count": 127,
   "metadata": {},
   "outputs": [
    {
     "ename": "TypeError",
     "evalue": "Input must be valid geometry objects: {\"type\": \"Polygon\", \"coordinates\": [[[19.22731068999911, -98.99723373999994], [19.227184459999123, -98.99744704999993], [19.226488459999103, -98.9974635999999], [19.226423519999155, -98.99706316999995], [19.226326379999104, -98.99668105999993], [19.22619039999913, -98.99642859999992], [19.226128889999114, -98.99638268999992], [19.225977169999148, -98.9962694499999], [19.2258887699991, -98.9961805999999], [19.225260769999117, -98.996362], [19.225211429999153, -98.99637625999996], [19.22513468999913, -98.99611645999993], [19.225038489999125, -98.99579087999992], [19.226242349999136, -98.99544217999993], [19.22643461999916, -98.99542281999994], [19.227514919999074, -98.9952639099999], [19.22744791999911, -98.99439442999991], [19.227426029999116, -98.99420421999996], [19.227470459999125, -98.99372541999993], [19.227278229999108, -98.99366731999997], [19.227090769999162, -98.9936106599999], [19.22693002999914, -98.9935620799999], [19.22679701999911, -98.99354201999991], [19.22649993999914, -98.99349722999993], [19.22624707999914, -98.9934591099999], [19.225823889999145, -98.99339530999997], [19.224944849999105, -98.9932627799999], [19.224918479999122, -98.9929066499999], [19.224892109999107, -98.99255073999993], [19.224887879999127, -98.99249385999995], [19.22484133999917, -98.991868], [19.224789769999113, -98.99123725999996], [19.22559467999912, -98.99107357999993], [19.225778349999146, -98.9905586799999], [19.223704769999124, -98.9882339099999], [19.22143465999913, -98.98571903], [19.220300849999123, -98.98437096999994], [19.220256169999093, -98.98431784999993], [19.218637139999164, -98.98239261999994], [19.21506830999912, -98.9781500299999], [19.21508231999905, -98.97789667999992], [19.214591199999116, -98.97501030999994], [19.214585349999144, -98.97495757999994], [19.214483199999172, -98.97450208999997], [19.21444313999915, -98.97434953999995], [19.21412779999909, -98.97371659999995], [19.21408291999914, -98.97362139999993], [19.213822489999085, -98.9733322599999], [19.213664509999166, -98.97321267999993], [19.21361556999913, -98.97317684999992], [19.213615509999155, -98.97317681999995], [19.213454459999134, -98.9730590299999], [19.213170539999187, -98.97282770999995], [19.21269541999913, -98.97242856999993], [19.212510909999125, -98.97222425999995], [19.212326479999135, -98.97197039999993], [19.21213022999912, -98.97170613999994], [19.211971549999106, -98.9714977799999], [19.211864629999088, -98.97129551999994], [19.211716079999107, -98.97101601999994], [19.21127537999915, -98.96997776999993], [19.21125521999914, -98.9699306799999], [19.211182569999128, -98.9697610599999], [19.210974179999102, -98.96947313999996], [19.210850829999085, -98.96924021999992], [19.210712449999185, -98.96892605999992], [19.210589059999144, -98.96857757999994], [19.210571079999085, -98.96852791999994], [19.21048884999913, -98.96837654999995], [19.209796049999113, -98.96765733999992], [19.209006549999106, -98.96683774999994], [19.208961339999124, -98.96682650999995], [19.208742679999112, -98.96686347999994], [19.207899429999127, -98.96700601999994], [19.20762859999915, -98.96705179999994], [19.207327199999153, -98.96742396999993], [19.207042249999105, -98.96718134999995], [19.206617599999156, -98.96716850999995], [19.20625108999912, -98.96722873999992], [19.206172429999143, -98.96740454999993], [19.20612548999908, -98.9675094199999], [19.205719979999092, -98.96797916999996], [19.20520822999913, -98.96857196999993], [19.204252909999138, -98.96967856999997], [19.203128849999125, -98.9677018899999], [19.203025919999153, -98.96768027999993], [19.202689739999137, -98.96760965999992], [19.199909859999114, -98.9670258299999], [19.197921649999156, -98.9669786899999], [19.189743079999086, -98.96769388999992], [19.18703165999913, -98.96641033999997], [19.17916787999908, -98.95984905999994], [19.17663521999913, -98.95652173999994], [19.176763059999168, -98.9561746799999], [19.174063399999092, -98.95491573999995], [19.16863761999907, -98.9523856499999], [19.164930459999145, -98.96561216999997], [19.164438689999127, -98.9673663999999], [19.161961689999135, -98.9652502599999], [19.16121928999915, -98.9646160299999], [19.160191679999105, -98.96373816999991], [19.159471199999125, -98.96312268999996], [19.158973399999105, -98.96269744999994], [19.158179509999098, -98.96201925999993], [19.1570850599991, -98.96108434999994], [19.156483629999112, -98.9605706199999], [19.155836059999142, -98.96001744999994], [19.155652339999175, -98.9598605199999], [19.155193199999143, -98.95946831999994], [19.154041339999115, -98.9584844299999], [19.15384711999913, -98.9583185399999], [19.14952434999912, -98.95462630999997], [19.147298419999093, -98.9594818899999], [19.14710879999916, -98.95989550999992], [19.145866949999107, -98.96260419999996], [19.14564259999914, -98.96303702999994], [19.143870509999118, -98.96645593999993], [19.142584489999155, -98.96595605999993], [19.141830969999152, -98.96566316999996], [19.141394909999125, -98.9654936599999], [19.14041481999914, -98.96511271999996], [19.14038599999913, -98.96508905999993], [19.139845419999094, -98.96464529], [19.13979701999916, -98.96460554999997], [19.13821747999912, -98.9638887199999], [19.137934519999106, -98.96376030999993], [19.137488079999116, -98.96348754999995], [19.136977139999146, -98.96317541999993], [19.136522549999118, -98.9628977099999], [19.136078149999122, -98.96262621999992], [19.13583407999912, -98.96247710999992], [19.135670249999134, -98.9623770199999], [19.13545579999912, -98.96227267999994], [19.13478334999917, -98.96194547999991], [19.134519689999085, -98.96181716999992], [19.134310539999124, -98.9617153999999], [19.134125889999137, -98.96162554999991], [19.133823449999106, -98.96147839999993], [19.133029109999118, -98.96109188999993], [19.132305229999123, -98.96085396999992], [19.13125811999913, -98.96050981999996], [19.131022769999163, -98.96043245999991], [19.128314109999145, -98.9595422199999], [19.125841229999136, -98.95872948999993], [19.125273799999132, -98.95852896999995], [19.123203579999124, -98.95779737999997], [19.12238321999919, -98.95750747999993], [19.11963101999909, -98.9576560299999], [19.117915349999134, -98.95800284999991], [19.117580969999153, -98.95807042999994], [19.114897939999114, -98.95850024999994], [19.11450804999909, -98.95856270999994], [19.113638509999127, -98.958702], [19.11270524999909, -98.95869201999992], [19.11256793999914, -98.95869054999994], [19.11130939999913, -98.95840974999997], [19.110413879999143, -98.95860637999995], [19.11009461999912, -98.95867647999994], [19.109042719999117, -98.95895665999991], [19.104277949999112, -98.95906351], [19.095583179999135, -98.96123977999993], [19.09206277999915, -98.9632657699999], [19.085861169999127, -98.96572147999994], [19.08314087999909, -98.96828357999995], [19.081218379999136, -98.97137233999995], [19.07955316999914, -98.97369661999993], [19.074455949999127, -98.97899539999993], [19.077608419999134, -98.98236136999994], [19.078763249999145, -98.9835944899999], [19.085368799999134, -99.02899367999994], [19.084556539999102, -99.03019490999993], [19.075755459999133, -99.0432088599999], [19.066601539999088, -99.0487286599999], [19.053462029999135, -99.05665036999993], [19.048236659999116, -99.05980022999991], [19.04871871999915, -99.06208574999991], [19.05764802999912, -99.1044538599999], [19.057790119999105, -99.10512856999995], [19.062064719999103, -99.12543311999995], [19.088840549999155, -99.13521261999993], [19.089296079999176, -99.13537901999995], [19.089377979999156, -99.13648147999994], [19.100583089999105, -99.14681085999992], [19.10883654999911, -99.15474753999993], [19.117490569999116, -99.1632928499999], [19.135309709999106, -99.15500931999996], [19.13812156999914, -99.15400427999997], [19.14211807999914, -99.1524995799999], [19.150767429999107, -99.15195690999992], [19.151410749999137, -99.1518057699999], [19.159844089999098, -99.14972374999992], [19.160312879999147, -99.1496084199999], [19.160273029999118, -99.14870414999994], [19.160235029999082, -99.14820007999994], [19.160140629999116, -99.14757857999994], [19.160041509999086, -99.1472081699999], [19.15994468999909, -99.1468038899999], [19.159811619999108, -99.1465098199999], [19.159552139999143, -99.1460768599999], [19.159213719999112, -99.14545782999991], [19.15892833999912, -99.14492217999994], [19.15886402999912, -99.14480454999993], [19.158665449999127, -99.14449414999991], [19.158399049999158, -99.1442300199999], [19.158116849999114, -99.14396081999992], [19.157834649999128, -99.14367707999993], [19.157538849999103, -99.1434458199999], [19.1571432899991, -99.14323824999992], [19.15681850999915, -99.14305619999998], [19.156513969999125, -99.14293831999996], [19.15608034999908, -99.1427495499999], [19.15555759999913, -99.1425192299999], [19.155136379999146, -99.14228364999994], [19.154743319999092, -99.14203407999995], [19.154480059999102, -99.1418225199999], [19.154059719999143, -99.14152397999995], [19.153514549999137, -99.14113294999994], [19.152918399999127, -99.14084908999995], [19.15249668999916, -99.14069556999996], [19.1522132599991, -99.14040431999992], [19.15195856999911, -99.14002019999994], [19.151807369999112, -99.13977424999992], [19.151647219999123, -99.13942614999995], [19.151443449999125, -99.13894864999995], [19.151338349999133, -99.13853225999993], [19.150995619999133, -99.13777331999991], [19.15075037999913, -99.1372113499999], [19.148611289999163, -99.13240604999994], [19.15075037999913, -99.13123153999997], [19.152544169999107, -99.13024431999993], [19.172872949999128, -99.11913013999997], [19.17374265999913, -99.11865413999995], [19.183302289999098, -99.11341834999993], [19.18469265999916, -99.11266061999997], [19.18529547999914, -99.11233062999995], [19.18651328999915, -99.11166244999997], [19.18683413999909, -99.11148408999993], [19.18904448999916, -99.11027633999996], [19.197340709999136, -99.10573639999991], [19.19805801999917, -99.10527767999996], [19.198273079999115, -99.1051818299999], [19.198205519999114, -99.10469782999995], [19.19827928999913, -99.10465834999994], [19.198336799999165, -99.10463722999997], [19.198382019999134, -99.10463147999995], [19.198425819999155, -99.10460885999994], [19.1984933499991, -99.10472545999993], [19.198560919999128, -99.1047789199999], [19.198656149999096, -99.10482430999994], [19.19876628999909, -99.10485096999996], [19.19886610999915, -99.10484422999993], [19.19896421999914, -99.10479968999991], [19.199046369999152, -99.10472557999996], [19.19936717999908, -99.1041963499999], [19.199410659999163, -99.1041233399999], [19.199436379999163, -99.10408061999998], [19.199926199999144, -99.10326791999992], [19.200018289999154, -99.10311387999992], [19.200311119999146, -99.10262924999991], [19.20046476999912, -99.10239984999994], [19.200628229999136, -99.1022731099999], [19.200661969999164, -99.10224693999997], [19.200827969999118, -99.10217033999994], [19.201051799999124, -99.10211757999993], [19.20157231999912, -99.10208644999993], [19.2018463999991, -99.10207005999995], [19.202280519999128, -99.10202242999993], [19.202646089999092, -99.10196359999996], [19.203434249999106, -99.1019331799999], [19.203823419999143, -99.1018997099999], [19.20420084999914, -99.10187084999991], [19.204430429999157, -99.10185431], [19.20462162999914, -99.10181474999992], [19.204719179999113, -99.1017804299999], [19.204808889999107, -99.1017459399999], [19.204891779999098, -99.10169308999994], [19.205014859999157, -99.1015900199999], [19.205700799999132, -99.10100227999995], [19.205721649999102, -99.10098441999993], [19.205824649999126, -99.10088611999994], [19.205894979999098, -99.100802], [19.205955289999185, -99.10069887999995], [19.205998029999144, -99.10060633999991], [19.20607247999913, -99.10037511999995], [19.206115229999128, -99.10025611999995], [19.20617048999908, -99.10018208999995], [19.206245849999142, -99.10012394999991], [19.2063211799991, -99.10008430999991], [19.20641408999914, -99.10005791999995], [19.206519549999154, -99.1000447499999], [19.206993349999127, -99.10002610999994], [19.207143999999115, -99.10001296999995], [19.207267049999096, -99.09997601999996], [19.207385629999095, -99.09992053999996], [19.207495599999138, -99.0998306599999], [19.207990849999117, -99.09936913999994], [19.208069419999127, -99.09930585999992], [19.208105149999092, -99.09926941999994], [19.208147279999114, -99.09921250999996], [19.20816431999911, -99.09916321999994], [19.208182819999124, -99.09910994999994], [19.208196569999124, -99.0990373699999], [19.208209399999145, -99.09894507999992], [19.208211379999103, -99.09889554999991], [19.20821501999917, -99.09881945999994], [19.208215199999103, -99.09848844999998], [19.208220939999148, -99.09841050999991], [19.208226659999088, -99.0983506199999], [19.20823819999912, -99.09826902999997], [19.20827237999911, -99.09813737999993], [19.20832996999912, -99.0979443099999], [19.208592719999174, -99.09713865999994], [19.208630749999106, -99.09699591999997], [19.20865385999913, -99.09687310999995], [19.208664449999155, -99.09677734999993], [19.208664829999105, -99.09667973999991], [19.208652079999087, -99.0965507399999], [19.208626689999132, -99.09643277], [19.2085987699991, -99.09627317999993], [19.20857299999911, -99.09612293999994], [19.20855413999912, -99.09597408999993], [19.20855591999913, -99.09585611999994], [19.20857834999911, -99.09577444999992], [19.208627939999115, -99.09568702999995], [19.208717889999125, -99.09561151999996], [19.20880314999913, -99.09555505999994], [19.209259029999167, -99.0952531499999], [19.2094386499991, -99.0951595799999], [19.20959001999912, -99.09509891999991], [19.209741369999165, -99.09507622999995], [19.210078979999125, -99.09506453999994], [19.21107427999916, -99.094996], [19.21115116999909, -99.09497577999996], [19.211220849999158, -99.09494545999993], [19.211283319999147, -99.09489991999997], [19.211360799999085, -99.09483414999991], [19.21143290999914, -99.0947430799999], [19.2114930199991, -99.09465450999991], [19.21153870999915, -99.09456087999993], [19.211553149999084, -99.09448494999994], [19.21155319999908, -99.09439634999991], [19.211524429999145, -99.0942950799999], [19.21147402999912, -99.0942043099999], [19.2113083699991, -99.09400930999998], [19.211078919999103, -99.09368524999994], [19.211008709999135, -99.09354214999992], [19.210964489999128, -99.0933889199999], [19.210929939999076, -99.09318091999992], [19.21091876999912, -99.09292934999993], [19.210892509999177, -99.09239171999994], [19.210920089999135, -99.09171704999993], [19.211019379999136, -99.09096536999998], [19.21104822999913, -99.0908728799999], [19.211095649999134, -99.0906947999999], [19.211436579999134, -99.08903254999993], [19.21154494999917, -99.08850425999995], [19.21160159999912, -99.08822804999991], [19.2119943199991, -99.08631317999995], [19.212384709999117, -99.08440964999993], [19.21251585999914, -99.08377008999996], [19.212663309999105, -99.08305105999993], [19.21277697999912, -99.08250902999997], [19.212890919999115, -99.08196607999996], [19.213019819999147, -99.0813517999999], [19.213115519999114, -99.08089568999993], [19.213227649999126, -99.08035562999994], [19.213289279999113, -99.08005873999993], [19.21343185999914, -99.07937191999993], [19.213543449999115, -99.0788344599999], [19.213570519999163, -99.07870404999991], [19.213605879999136, -99.07853377], [19.213690109999188, -99.07812794999994], [19.213754049999118, -99.07781996999992], [19.21377457999914, -99.07772102999992], [19.213975429999145, -99.0767535499999], [19.214175379999137, -99.0757902299999], [19.21463277999911, -99.07358662999995], [19.21489834999912, -99.0723071799999], [19.21515630999912, -99.0710643099999], [19.21556988999915, -99.0690714899999], [19.215839599999104, -99.0677717999999], [19.215932229999165, -99.0673254599999], [19.216143229999158, -99.06630867999992], [19.216247979999125, -99.06580381999996], [19.216553769999177, -99.06433019999994], [19.21678664999913, -99.06320779999994], [19.217338429999092, -99.06054339999993], [19.217418419999134, -99.06015719999995], [19.21761882999914, -99.0591893799999], [19.217831309999152, -99.05816330999993], [19.218130939999128, -99.05671625999994], [19.21820611999913, -99.05635317999993], [19.218282619999115, -99.05598373999996], [19.21872764999916, -99.05383919999993], [19.21888153999912, -99.0530976], [19.219035689999146, -99.05235468999992], [19.219701939999137, -99.04914367999994], [19.21988411999915, -99.04826553999995], [19.219966769999107, -99.04786719999994], [19.220220539999183, -99.046644], [19.220470709999088, -99.04543821999992], [19.22097185999915, -99.04302259999994], [19.22102107999914, -99.04278534999993], [19.22108690999913, -99.04246805999995], [19.221149029999125, -99.04216881999996], [19.221228399999113, -99.04178645999993], [19.221365749999148, -99.04112473999996], [19.221577349999134, -99.0401053099999], [19.2220059999991, -99.0380401399999], [19.222098049999147, -99.03759659999993], [19.222234399999138, -99.03693965999993], [19.22227756999914, -99.03673162999995], [19.222342399999132, -99.03641890999992], [19.22237042999915, -99.03628364999996], [19.22247350999917, -99.03578639999994], [19.222593249999086, -99.0352087699999], [19.22283114999913, -99.03406104999998], [19.22307714999914, -99.03287417999994], [19.223632849999145, -99.0301930299999], [19.223980769999095, -99.02627388999993], [19.22406464999913, -99.02532771999994], [19.224092109999166, -99.025018], [19.224270629999133, -99.02300388999996], [19.224296509999093, -99.02271196999995], [19.224382849999124, -99.02173831999993], [19.224431429999125, -99.02119048999994], [19.22453810999912, -99.01998742999993], [19.224570319999142, -99.01962417999992], [19.224696249999106, -99.0182038199999], [19.224732969999156, -99.01778959999992], [19.22476024999913, -99.0174833199999], [19.224877859999108, -99.01616273999996], [19.224903019999097, -99.01588016999993], [19.224962569999118, -99.01521133999992], [19.2249716599991, -99.01510928999991], [19.22514541999914, -99.01315771999997], [19.225188519999154, -99.01267353999994], [19.225204489999136, -99.01249421999991], [19.22524313999913, -99.01206013999995], [19.22528370999912, -99.01160439999994], [19.225386779999166, -99.01044628999993], [19.22552485999915, -99.00889496999993], [19.225558089999126, -99.00852974999994], [19.225646339999077, -99.00755936999995], [19.225683379999165, -99.0071519699999], [19.225806319999133, -99.00580005999994], [19.225811889999118, -99.00573873999993], [19.225888509999127, -99.00489611999991], [19.22592979999919, -99.00444207999995], [19.225964999999082, -99.0040548599999], [19.225972679999117, -99.00397048999996], [19.226059169999136, -99.00301901999991], [19.226139079999164, -99.0021401399999], [19.226182539999126, -99.00166196999994], [19.226198369999153, -99.00148781999995], [19.22631757999917, -99.0001037499999], [19.226392829999156, -99.00009611999995], [19.227060019999133, -99.003129], [19.227573919999152, -99.00299064999994], [19.227357429999135, -99.0022150899999], [19.22699437999916, -99.0007657399999], [19.226783919999143, -98.99984690999995], [19.227282689999118, -98.9996738299999], [19.22755950999916, -98.99957247999996], [19.227357049999085, -98.99902228999994], [19.227704739999123, -98.99886393999994], [19.2275319099991, -98.99814737999993], [19.22747256999914, -98.99717701999995], [19.22731068999911, -98.99723373999994]]]}",
     "output_type": "error",
     "traceback": [
      "\u001b[1;31m---------------------------------------------------------------------------\u001b[0m",
      "\u001b[1;31mTypeError\u001b[0m                                 Traceback (most recent call last)",
      "\u001b[1;32m<ipython-input-127-1ff80f7dba98>\u001b[0m in \u001b[0;36m<module>\u001b[1;34m\u001b[0m\n\u001b[1;32m----> 1\u001b[1;33m \u001b[0mpoligonos\u001b[0m\u001b[1;33m.\u001b[0m\u001b[0mset_geometry\u001b[0m\u001b[1;33m(\u001b[0m\u001b[0mcol\u001b[0m\u001b[1;33m=\u001b[0m\u001b[1;34m'Geo Shape'\u001b[0m\u001b[1;33m,\u001b[0m \u001b[0minplace\u001b[0m\u001b[1;33m=\u001b[0m\u001b[1;32mTrue\u001b[0m\u001b[1;33m)\u001b[0m\u001b[1;33m\u001b[0m\u001b[1;33m\u001b[0m\u001b[0m\n\u001b[0m",
      "\u001b[1;32m~\\Anaconda3\\lib\\site-packages\\geopandas\\geodataframe.py\u001b[0m in \u001b[0;36mset_geometry\u001b[1;34m(self, col, drop, inplace, crs)\u001b[0m\n\u001b[0;32m    252\u001b[0m \u001b[1;33m\u001b[0m\u001b[0m\n\u001b[0;32m    253\u001b[0m         \u001b[1;31m# Check that we are using a listlike of geometries\u001b[0m\u001b[1;33m\u001b[0m\u001b[1;33m\u001b[0m\u001b[1;33m\u001b[0m\u001b[0m\n\u001b[1;32m--> 254\u001b[1;33m         \u001b[0mlevel\u001b[0m \u001b[1;33m=\u001b[0m \u001b[0m_ensure_geometry\u001b[0m\u001b[1;33m(\u001b[0m\u001b[0mlevel\u001b[0m\u001b[1;33m,\u001b[0m \u001b[0mcrs\u001b[0m\u001b[1;33m=\u001b[0m\u001b[0mcrs\u001b[0m\u001b[1;33m)\u001b[0m\u001b[1;33m\u001b[0m\u001b[1;33m\u001b[0m\u001b[0m\n\u001b[0m\u001b[0;32m    255\u001b[0m         \u001b[0mindex\u001b[0m \u001b[1;33m=\u001b[0m \u001b[0mframe\u001b[0m\u001b[1;33m.\u001b[0m\u001b[0mindex\u001b[0m\u001b[1;33m\u001b[0m\u001b[1;33m\u001b[0m\u001b[0m\n\u001b[0;32m    256\u001b[0m         \u001b[0mframe\u001b[0m\u001b[1;33m[\u001b[0m\u001b[0mgeo_column_name\u001b[0m\u001b[1;33m]\u001b[0m \u001b[1;33m=\u001b[0m \u001b[0mlevel\u001b[0m\u001b[1;33m\u001b[0m\u001b[1;33m\u001b[0m\u001b[0m\n",
      "\u001b[1;32m~\\Anaconda3\\lib\\site-packages\\geopandas\\geodataframe.py\u001b[0m in \u001b[0;36m_ensure_geometry\u001b[1;34m(data, crs)\u001b[0m\n\u001b[0;32m     40\u001b[0m             \u001b[1;32mreturn\u001b[0m \u001b[0mGeoSeries\u001b[0m\u001b[1;33m(\u001b[0m\u001b[0mout\u001b[0m\u001b[1;33m,\u001b[0m \u001b[0mindex\u001b[0m\u001b[1;33m=\u001b[0m\u001b[0mdata\u001b[0m\u001b[1;33m.\u001b[0m\u001b[0mindex\u001b[0m\u001b[1;33m,\u001b[0m \u001b[0mname\u001b[0m\u001b[1;33m=\u001b[0m\u001b[0mdata\u001b[0m\u001b[1;33m.\u001b[0m\u001b[0mname\u001b[0m\u001b[1;33m)\u001b[0m\u001b[1;33m\u001b[0m\u001b[1;33m\u001b[0m\u001b[0m\n\u001b[0;32m     41\u001b[0m         \u001b[1;32melse\u001b[0m\u001b[1;33m:\u001b[0m\u001b[1;33m\u001b[0m\u001b[1;33m\u001b[0m\u001b[0m\n\u001b[1;32m---> 42\u001b[1;33m             \u001b[0mout\u001b[0m \u001b[1;33m=\u001b[0m \u001b[0mfrom_shapely\u001b[0m\u001b[1;33m(\u001b[0m\u001b[0mdata\u001b[0m\u001b[1;33m,\u001b[0m \u001b[0mcrs\u001b[0m\u001b[1;33m=\u001b[0m\u001b[0mcrs\u001b[0m\u001b[1;33m)\u001b[0m\u001b[1;33m\u001b[0m\u001b[1;33m\u001b[0m\u001b[0m\n\u001b[0m\u001b[0;32m     43\u001b[0m             \u001b[1;32mreturn\u001b[0m \u001b[0mout\u001b[0m\u001b[1;33m\u001b[0m\u001b[1;33m\u001b[0m\u001b[0m\n\u001b[0;32m     44\u001b[0m \u001b[1;33m\u001b[0m\u001b[0m\n",
      "\u001b[1;32m~\\Anaconda3\\lib\\site-packages\\geopandas\\array.py\u001b[0m in \u001b[0;36mfrom_shapely\u001b[1;34m(data, crs)\u001b[0m\n\u001b[0;32m    164\u001b[0m \u001b[1;33m\u001b[0m\u001b[0m\n\u001b[0;32m    165\u001b[0m     \"\"\"\n\u001b[1;32m--> 166\u001b[1;33m     \u001b[1;32mreturn\u001b[0m \u001b[0mGeometryArray\u001b[0m\u001b[1;33m(\u001b[0m\u001b[0mvectorized\u001b[0m\u001b[1;33m.\u001b[0m\u001b[0mfrom_shapely\u001b[0m\u001b[1;33m(\u001b[0m\u001b[0mdata\u001b[0m\u001b[1;33m)\u001b[0m\u001b[1;33m,\u001b[0m \u001b[0mcrs\u001b[0m\u001b[1;33m=\u001b[0m\u001b[0mcrs\u001b[0m\u001b[1;33m)\u001b[0m\u001b[1;33m\u001b[0m\u001b[1;33m\u001b[0m\u001b[0m\n\u001b[0m\u001b[0;32m    167\u001b[0m \u001b[1;33m\u001b[0m\u001b[0m\n\u001b[0;32m    168\u001b[0m \u001b[1;33m\u001b[0m\u001b[0m\n",
      "\u001b[1;32m~\\Anaconda3\\lib\\site-packages\\geopandas\\_vectorized.py\u001b[0m in \u001b[0;36mfrom_shapely\u001b[1;34m(data)\u001b[0m\n\u001b[0;32m    132\u001b[0m             \u001b[0mout\u001b[0m\u001b[1;33m.\u001b[0m\u001b[0mappend\u001b[0m\u001b[1;33m(\u001b[0m\u001b[1;32mNone\u001b[0m\u001b[1;33m)\u001b[0m\u001b[1;33m\u001b[0m\u001b[1;33m\u001b[0m\u001b[0m\n\u001b[0;32m    133\u001b[0m         \u001b[1;32melse\u001b[0m\u001b[1;33m:\u001b[0m\u001b[1;33m\u001b[0m\u001b[1;33m\u001b[0m\u001b[0m\n\u001b[1;32m--> 134\u001b[1;33m             \u001b[1;32mraise\u001b[0m \u001b[0mTypeError\u001b[0m\u001b[1;33m(\u001b[0m\u001b[1;34m\"Input must be valid geometry objects: {0}\"\u001b[0m\u001b[1;33m.\u001b[0m\u001b[0mformat\u001b[0m\u001b[1;33m(\u001b[0m\u001b[0mgeom\u001b[0m\u001b[1;33m)\u001b[0m\u001b[1;33m)\u001b[0m\u001b[1;33m\u001b[0m\u001b[1;33m\u001b[0m\u001b[0m\n\u001b[0m\u001b[0;32m    135\u001b[0m \u001b[1;33m\u001b[0m\u001b[0m\n\u001b[0;32m    136\u001b[0m     \u001b[1;32mif\u001b[0m \u001b[0mcompat\u001b[0m\u001b[1;33m.\u001b[0m\u001b[0mUSE_PYGEOS\u001b[0m\u001b[1;33m:\u001b[0m\u001b[1;33m\u001b[0m\u001b[1;33m\u001b[0m\u001b[0m\n",
      "\u001b[1;31mTypeError\u001b[0m: Input must be valid geometry objects: {\"type\": \"Polygon\", \"coordinates\": [[[19.22731068999911, -98.99723373999994], [19.227184459999123, -98.99744704999993], [19.226488459999103, -98.9974635999999], [19.226423519999155, -98.99706316999995], [19.226326379999104, -98.99668105999993], [19.22619039999913, -98.99642859999992], [19.226128889999114, -98.99638268999992], [19.225977169999148, -98.9962694499999], [19.2258887699991, -98.9961805999999], [19.225260769999117, -98.996362], [19.225211429999153, -98.99637625999996], [19.22513468999913, -98.99611645999993], [19.225038489999125, -98.99579087999992], [19.226242349999136, -98.99544217999993], [19.22643461999916, -98.99542281999994], [19.227514919999074, -98.9952639099999], [19.22744791999911, -98.99439442999991], [19.227426029999116, -98.99420421999996], [19.227470459999125, -98.99372541999993], [19.227278229999108, -98.99366731999997], [19.227090769999162, -98.9936106599999], [19.22693002999914, -98.9935620799999], [19.22679701999911, -98.99354201999991], [19.22649993999914, -98.99349722999993], [19.22624707999914, -98.9934591099999], [19.225823889999145, -98.99339530999997], [19.224944849999105, -98.9932627799999], [19.224918479999122, -98.9929066499999], [19.224892109999107, -98.99255073999993], [19.224887879999127, -98.99249385999995], [19.22484133999917, -98.991868], [19.224789769999113, -98.99123725999996], [19.22559467999912, -98.99107357999993], [19.225778349999146, -98.9905586799999], [19.223704769999124, -98.9882339099999], [19.22143465999913, -98.98571903], [19.220300849999123, -98.98437096999994], [19.220256169999093, -98.98431784999993], [19.218637139999164, -98.98239261999994], [19.21506830999912, -98.9781500299999], [19.21508231999905, -98.97789667999992], [19.214591199999116, -98.97501030999994], [19.214585349999144, -98.97495757999994], [19.214483199999172, -98.97450208999997], [19.21444313999915, -98.97434953999995], [19.21412779999909, -98.97371659999995], [19.21408291999914, -98.97362139999993], [19.213822489999085, -98.9733322599999], [19.213664509999166, -98.97321267999993], [19.21361556999913, -98.97317684999992], [19.213615509999155, -98.97317681999995], [19.213454459999134, -98.9730590299999], [19.213170539999187, -98.97282770999995], [19.21269541999913, -98.97242856999993], [19.212510909999125, -98.97222425999995], [19.212326479999135, -98.97197039999993], [19.21213022999912, -98.97170613999994], [19.211971549999106, -98.9714977799999], [19.211864629999088, -98.97129551999994], [19.211716079999107, -98.97101601999994], [19.21127537999915, -98.96997776999993], [19.21125521999914, -98.9699306799999], [19.211182569999128, -98.9697610599999], [19.210974179999102, -98.96947313999996], [19.210850829999085, -98.96924021999992], [19.210712449999185, -98.96892605999992], [19.210589059999144, -98.96857757999994], [19.210571079999085, -98.96852791999994], [19.21048884999913, -98.96837654999995], [19.209796049999113, -98.96765733999992], [19.209006549999106, -98.96683774999994], [19.208961339999124, -98.96682650999995], [19.208742679999112, -98.96686347999994], [19.207899429999127, -98.96700601999994], [19.20762859999915, -98.96705179999994], [19.207327199999153, -98.96742396999993], [19.207042249999105, -98.96718134999995], [19.206617599999156, -98.96716850999995], [19.20625108999912, -98.96722873999992], [19.206172429999143, -98.96740454999993], [19.20612548999908, -98.9675094199999], [19.205719979999092, -98.96797916999996], [19.20520822999913, -98.96857196999993], [19.204252909999138, -98.96967856999997], [19.203128849999125, -98.9677018899999], [19.203025919999153, -98.96768027999993], [19.202689739999137, -98.96760965999992], [19.199909859999114, -98.9670258299999], [19.197921649999156, -98.9669786899999], [19.189743079999086, -98.96769388999992], [19.18703165999913, -98.96641033999997], [19.17916787999908, -98.95984905999994], [19.17663521999913, -98.95652173999994], [19.176763059999168, -98.9561746799999], [19.174063399999092, -98.95491573999995], [19.16863761999907, -98.9523856499999], [19.164930459999145, -98.96561216999997], [19.164438689999127, -98.9673663999999], [19.161961689999135, -98.9652502599999], [19.16121928999915, -98.9646160299999], [19.160191679999105, -98.96373816999991], [19.159471199999125, -98.96312268999996], [19.158973399999105, -98.96269744999994], [19.158179509999098, -98.96201925999993], [19.1570850599991, -98.96108434999994], [19.156483629999112, -98.9605706199999], [19.155836059999142, -98.96001744999994], [19.155652339999175, -98.9598605199999], [19.155193199999143, -98.95946831999994], [19.154041339999115, -98.9584844299999], [19.15384711999913, -98.9583185399999], [19.14952434999912, -98.95462630999997], [19.147298419999093, -98.9594818899999], [19.14710879999916, -98.95989550999992], [19.145866949999107, -98.96260419999996], [19.14564259999914, -98.96303702999994], [19.143870509999118, -98.96645593999993], [19.142584489999155, -98.96595605999993], [19.141830969999152, -98.96566316999996], [19.141394909999125, -98.9654936599999], [19.14041481999914, -98.96511271999996], [19.14038599999913, -98.96508905999993], [19.139845419999094, -98.96464529], [19.13979701999916, -98.96460554999997], [19.13821747999912, -98.9638887199999], [19.137934519999106, -98.96376030999993], [19.137488079999116, -98.96348754999995], [19.136977139999146, -98.96317541999993], [19.136522549999118, -98.9628977099999], [19.136078149999122, -98.96262621999992], [19.13583407999912, -98.96247710999992], [19.135670249999134, -98.9623770199999], [19.13545579999912, -98.96227267999994], [19.13478334999917, -98.96194547999991], [19.134519689999085, -98.96181716999992], [19.134310539999124, -98.9617153999999], [19.134125889999137, -98.96162554999991], [19.133823449999106, -98.96147839999993], [19.133029109999118, -98.96109188999993], [19.132305229999123, -98.96085396999992], [19.13125811999913, -98.96050981999996], [19.131022769999163, -98.96043245999991], [19.128314109999145, -98.9595422199999], [19.125841229999136, -98.95872948999993], [19.125273799999132, -98.95852896999995], [19.123203579999124, -98.95779737999997], [19.12238321999919, -98.95750747999993], [19.11963101999909, -98.9576560299999], [19.117915349999134, -98.95800284999991], [19.117580969999153, -98.95807042999994], [19.114897939999114, -98.95850024999994], [19.11450804999909, -98.95856270999994], [19.113638509999127, -98.958702], [19.11270524999909, -98.95869201999992], [19.11256793999914, -98.95869054999994], [19.11130939999913, -98.95840974999997], [19.110413879999143, -98.95860637999995], [19.11009461999912, -98.95867647999994], [19.109042719999117, -98.95895665999991], [19.104277949999112, -98.95906351], [19.095583179999135, -98.96123977999993], [19.09206277999915, -98.9632657699999], [19.085861169999127, -98.96572147999994], [19.08314087999909, -98.96828357999995], [19.081218379999136, -98.97137233999995], [19.07955316999914, -98.97369661999993], [19.074455949999127, -98.97899539999993], [19.077608419999134, -98.98236136999994], [19.078763249999145, -98.9835944899999], [19.085368799999134, -99.02899367999994], [19.084556539999102, -99.03019490999993], [19.075755459999133, -99.0432088599999], [19.066601539999088, -99.0487286599999], [19.053462029999135, -99.05665036999993], [19.048236659999116, -99.05980022999991], [19.04871871999915, -99.06208574999991], [19.05764802999912, -99.1044538599999], [19.057790119999105, -99.10512856999995], [19.062064719999103, -99.12543311999995], [19.088840549999155, -99.13521261999993], [19.089296079999176, -99.13537901999995], [19.089377979999156, -99.13648147999994], [19.100583089999105, -99.14681085999992], [19.10883654999911, -99.15474753999993], [19.117490569999116, -99.1632928499999], [19.135309709999106, -99.15500931999996], [19.13812156999914, -99.15400427999997], [19.14211807999914, -99.1524995799999], [19.150767429999107, -99.15195690999992], [19.151410749999137, -99.1518057699999], [19.159844089999098, -99.14972374999992], [19.160312879999147, -99.1496084199999], [19.160273029999118, -99.14870414999994], [19.160235029999082, -99.14820007999994], [19.160140629999116, -99.14757857999994], [19.160041509999086, -99.1472081699999], [19.15994468999909, -99.1468038899999], [19.159811619999108, -99.1465098199999], [19.159552139999143, -99.1460768599999], [19.159213719999112, -99.14545782999991], [19.15892833999912, -99.14492217999994], [19.15886402999912, -99.14480454999993], [19.158665449999127, -99.14449414999991], [19.158399049999158, -99.1442300199999], [19.158116849999114, -99.14396081999992], [19.157834649999128, -99.14367707999993], [19.157538849999103, -99.1434458199999], [19.1571432899991, -99.14323824999992], [19.15681850999915, -99.14305619999998], [19.156513969999125, -99.14293831999996], [19.15608034999908, -99.1427495499999], [19.15555759999913, -99.1425192299999], [19.155136379999146, -99.14228364999994], [19.154743319999092, -99.14203407999995], [19.154480059999102, -99.1418225199999], [19.154059719999143, -99.14152397999995], [19.153514549999137, -99.14113294999994], [19.152918399999127, -99.14084908999995], [19.15249668999916, -99.14069556999996], [19.1522132599991, -99.14040431999992], [19.15195856999911, -99.14002019999994], [19.151807369999112, -99.13977424999992], [19.151647219999123, -99.13942614999995], [19.151443449999125, -99.13894864999995], [19.151338349999133, -99.13853225999993], [19.150995619999133, -99.13777331999991], [19.15075037999913, -99.1372113499999], [19.148611289999163, -99.13240604999994], [19.15075037999913, -99.13123153999997], [19.152544169999107, -99.13024431999993], [19.172872949999128, -99.11913013999997], [19.17374265999913, -99.11865413999995], [19.183302289999098, -99.11341834999993], [19.18469265999916, -99.11266061999997], [19.18529547999914, -99.11233062999995], [19.18651328999915, -99.11166244999997], [19.18683413999909, -99.11148408999993], [19.18904448999916, -99.11027633999996], [19.197340709999136, -99.10573639999991], [19.19805801999917, -99.10527767999996], [19.198273079999115, -99.1051818299999], [19.198205519999114, -99.10469782999995], [19.19827928999913, -99.10465834999994], [19.198336799999165, -99.10463722999997], [19.198382019999134, -99.10463147999995], [19.198425819999155, -99.10460885999994], [19.1984933499991, -99.10472545999993], [19.198560919999128, -99.1047789199999], [19.198656149999096, -99.10482430999994], [19.19876628999909, -99.10485096999996], [19.19886610999915, -99.10484422999993], [19.19896421999914, -99.10479968999991], [19.199046369999152, -99.10472557999996], [19.19936717999908, -99.1041963499999], [19.199410659999163, -99.1041233399999], [19.199436379999163, -99.10408061999998], [19.199926199999144, -99.10326791999992], [19.200018289999154, -99.10311387999992], [19.200311119999146, -99.10262924999991], [19.20046476999912, -99.10239984999994], [19.200628229999136, -99.1022731099999], [19.200661969999164, -99.10224693999997], [19.200827969999118, -99.10217033999994], [19.201051799999124, -99.10211757999993], [19.20157231999912, -99.10208644999993], [19.2018463999991, -99.10207005999995], [19.202280519999128, -99.10202242999993], [19.202646089999092, -99.10196359999996], [19.203434249999106, -99.1019331799999], [19.203823419999143, -99.1018997099999], [19.20420084999914, -99.10187084999991], [19.204430429999157, -99.10185431], [19.20462162999914, -99.10181474999992], [19.204719179999113, -99.1017804299999], [19.204808889999107, -99.1017459399999], [19.204891779999098, -99.10169308999994], [19.205014859999157, -99.1015900199999], [19.205700799999132, -99.10100227999995], [19.205721649999102, -99.10098441999993], [19.205824649999126, -99.10088611999994], [19.205894979999098, -99.100802], [19.205955289999185, -99.10069887999995], [19.205998029999144, -99.10060633999991], [19.20607247999913, -99.10037511999995], [19.206115229999128, -99.10025611999995], [19.20617048999908, -99.10018208999995], [19.206245849999142, -99.10012394999991], [19.2063211799991, -99.10008430999991], [19.20641408999914, -99.10005791999995], [19.206519549999154, -99.1000447499999], [19.206993349999127, -99.10002610999994], [19.207143999999115, -99.10001296999995], [19.207267049999096, -99.09997601999996], [19.207385629999095, -99.09992053999996], [19.207495599999138, -99.0998306599999], [19.207990849999117, -99.09936913999994], [19.208069419999127, -99.09930585999992], [19.208105149999092, -99.09926941999994], [19.208147279999114, -99.09921250999996], [19.20816431999911, -99.09916321999994], [19.208182819999124, -99.09910994999994], [19.208196569999124, -99.0990373699999], [19.208209399999145, -99.09894507999992], [19.208211379999103, -99.09889554999991], [19.20821501999917, -99.09881945999994], [19.208215199999103, -99.09848844999998], [19.208220939999148, -99.09841050999991], [19.208226659999088, -99.0983506199999], [19.20823819999912, -99.09826902999997], [19.20827237999911, -99.09813737999993], [19.20832996999912, -99.0979443099999], [19.208592719999174, -99.09713865999994], [19.208630749999106, -99.09699591999997], [19.20865385999913, -99.09687310999995], [19.208664449999155, -99.09677734999993], [19.208664829999105, -99.09667973999991], [19.208652079999087, -99.0965507399999], [19.208626689999132, -99.09643277], [19.2085987699991, -99.09627317999993], [19.20857299999911, -99.09612293999994], [19.20855413999912, -99.09597408999993], [19.20855591999913, -99.09585611999994], [19.20857834999911, -99.09577444999992], [19.208627939999115, -99.09568702999995], [19.208717889999125, -99.09561151999996], [19.20880314999913, -99.09555505999994], [19.209259029999167, -99.0952531499999], [19.2094386499991, -99.0951595799999], [19.20959001999912, -99.09509891999991], [19.209741369999165, -99.09507622999995], [19.210078979999125, -99.09506453999994], [19.21107427999916, -99.094996], [19.21115116999909, -99.09497577999996], [19.211220849999158, -99.09494545999993], [19.211283319999147, -99.09489991999997], [19.211360799999085, -99.09483414999991], [19.21143290999914, -99.0947430799999], [19.2114930199991, -99.09465450999991], [19.21153870999915, -99.09456087999993], [19.211553149999084, -99.09448494999994], [19.21155319999908, -99.09439634999991], [19.211524429999145, -99.0942950799999], [19.21147402999912, -99.0942043099999], [19.2113083699991, -99.09400930999998], [19.211078919999103, -99.09368524999994], [19.211008709999135, -99.09354214999992], [19.210964489999128, -99.0933889199999], [19.210929939999076, -99.09318091999992], [19.21091876999912, -99.09292934999993], [19.210892509999177, -99.09239171999994], [19.210920089999135, -99.09171704999993], [19.211019379999136, -99.09096536999998], [19.21104822999913, -99.0908728799999], [19.211095649999134, -99.0906947999999], [19.211436579999134, -99.08903254999993], [19.21154494999917, -99.08850425999995], [19.21160159999912, -99.08822804999991], [19.2119943199991, -99.08631317999995], [19.212384709999117, -99.08440964999993], [19.21251585999914, -99.08377008999996], [19.212663309999105, -99.08305105999993], [19.21277697999912, -99.08250902999997], [19.212890919999115, -99.08196607999996], [19.213019819999147, -99.0813517999999], [19.213115519999114, -99.08089568999993], [19.213227649999126, -99.08035562999994], [19.213289279999113, -99.08005873999993], [19.21343185999914, -99.07937191999993], [19.213543449999115, -99.0788344599999], [19.213570519999163, -99.07870404999991], [19.213605879999136, -99.07853377], [19.213690109999188, -99.07812794999994], [19.213754049999118, -99.07781996999992], [19.21377457999914, -99.07772102999992], [19.213975429999145, -99.0767535499999], [19.214175379999137, -99.0757902299999], [19.21463277999911, -99.07358662999995], [19.21489834999912, -99.0723071799999], [19.21515630999912, -99.0710643099999], [19.21556988999915, -99.0690714899999], [19.215839599999104, -99.0677717999999], [19.215932229999165, -99.0673254599999], [19.216143229999158, -99.06630867999992], [19.216247979999125, -99.06580381999996], [19.216553769999177, -99.06433019999994], [19.21678664999913, -99.06320779999994], [19.217338429999092, -99.06054339999993], [19.217418419999134, -99.06015719999995], [19.21761882999914, -99.0591893799999], [19.217831309999152, -99.05816330999993], [19.218130939999128, -99.05671625999994], [19.21820611999913, -99.05635317999993], [19.218282619999115, -99.05598373999996], [19.21872764999916, -99.05383919999993], [19.21888153999912, -99.0530976], [19.219035689999146, -99.05235468999992], [19.219701939999137, -99.04914367999994], [19.21988411999915, -99.04826553999995], [19.219966769999107, -99.04786719999994], [19.220220539999183, -99.046644], [19.220470709999088, -99.04543821999992], [19.22097185999915, -99.04302259999994], [19.22102107999914, -99.04278534999993], [19.22108690999913, -99.04246805999995], [19.221149029999125, -99.04216881999996], [19.221228399999113, -99.04178645999993], [19.221365749999148, -99.04112473999996], [19.221577349999134, -99.0401053099999], [19.2220059999991, -99.0380401399999], [19.222098049999147, -99.03759659999993], [19.222234399999138, -99.03693965999993], [19.22227756999914, -99.03673162999995], [19.222342399999132, -99.03641890999992], [19.22237042999915, -99.03628364999996], [19.22247350999917, -99.03578639999994], [19.222593249999086, -99.0352087699999], [19.22283114999913, -99.03406104999998], [19.22307714999914, -99.03287417999994], [19.223632849999145, -99.0301930299999], [19.223980769999095, -99.02627388999993], [19.22406464999913, -99.02532771999994], [19.224092109999166, -99.025018], [19.224270629999133, -99.02300388999996], [19.224296509999093, -99.02271196999995], [19.224382849999124, -99.02173831999993], [19.224431429999125, -99.02119048999994], [19.22453810999912, -99.01998742999993], [19.224570319999142, -99.01962417999992], [19.224696249999106, -99.0182038199999], [19.224732969999156, -99.01778959999992], [19.22476024999913, -99.0174833199999], [19.224877859999108, -99.01616273999996], [19.224903019999097, -99.01588016999993], [19.224962569999118, -99.01521133999992], [19.2249716599991, -99.01510928999991], [19.22514541999914, -99.01315771999997], [19.225188519999154, -99.01267353999994], [19.225204489999136, -99.01249421999991], [19.22524313999913, -99.01206013999995], [19.22528370999912, -99.01160439999994], [19.225386779999166, -99.01044628999993], [19.22552485999915, -99.00889496999993], [19.225558089999126, -99.00852974999994], [19.225646339999077, -99.00755936999995], [19.225683379999165, -99.0071519699999], [19.225806319999133, -99.00580005999994], [19.225811889999118, -99.00573873999993], [19.225888509999127, -99.00489611999991], [19.22592979999919, -99.00444207999995], [19.225964999999082, -99.0040548599999], [19.225972679999117, -99.00397048999996], [19.226059169999136, -99.00301901999991], [19.226139079999164, -99.0021401399999], [19.226182539999126, -99.00166196999994], [19.226198369999153, -99.00148781999995], [19.22631757999917, -99.0001037499999], [19.226392829999156, -99.00009611999995], [19.227060019999133, -99.003129], [19.227573919999152, -99.00299064999994], [19.227357429999135, -99.0022150899999], [19.22699437999916, -99.0007657399999], [19.226783919999143, -98.99984690999995], [19.227282689999118, -98.9996738299999], [19.22755950999916, -98.99957247999996], [19.227357049999085, -98.99902228999994], [19.227704739999123, -98.99886393999994], [19.2275319099991, -98.99814737999993], [19.22747256999914, -98.99717701999995], [19.22731068999911, -98.99723373999994]]]}"
     ]
    }
   ],
   "source": [
    "poligonos.set_geometry(col='Geo Shape', inplace=True)"
   ]
  },
  {
   "cell_type": "code",
   "execution_count": 128,
   "metadata": {},
   "outputs": [],
   "source": [
    "poligonos.to_file(\"counties_polygons.geojson\", driver=\"GeoJSON\", encoding='latin1')"
   ]
  },
  {
   "cell_type": "code",
   "execution_count": 48,
   "metadata": {},
   "outputs": [],
   "source": [
    "poligonos = poligonos.astype({'geometry': 'str'}).dtypes"
   ]
  },
  {
   "cell_type": "code",
   "execution_count": null,
   "metadata": {},
   "outputs": [],
   "source": [
    "with open(\"counties_polygons.geojson\", 'w') as file:\n",
    "    json.dump(poligonos, file)"
   ]
  },
  {
   "cell_type": "code",
   "execution_count": null,
   "metadata": {},
   "outputs": [],
   "source": []
  },
  {
   "cell_type": "code",
   "execution_count": null,
   "metadata": {},
   "outputs": [],
   "source": []
  },
  {
   "cell_type": "code",
   "execution_count": null,
   "metadata": {},
   "outputs": [],
   "source": []
  },
  {
   "cell_type": "markdown",
   "metadata": {},
   "source": [
    "# XXXXXXXXXXXXXXXXXXXXXXX"
   ]
  },
  {
   "cell_type": "markdown",
   "metadata": {},
   "source": [
    "__REFERENCES__\n",
    "\n",
    "https://pymotw.com/2/datetime/#:~:text=You%20can%20use%20datetime%20to,days%2C%20seconds%2C%20and%20microseconds.\n",
    "\n",
    "Calculate time intervals\n",
    "https://stackoverflow.com/questions/3096953/how-to-calculate-the-time-interval-between-two-time-strings\n",
    "\n",
    "Convert time object into total minutes\n",
    "https://stackoverflow.com/questions/27475583/how-to-convert-time-object-into-total-minutes-python\n",
    "\n",
    "Assignate column values while iterating (df.at[i,\"column_name\"])\n",
    "https://stackoverflow.com/questions/23330654/update-a-dataframe-in-pandas-while-iterating-row-by-row\n",
    "\n",
    "Check if strings follow a format\n",
    "https://stackoverflow.com/questions/14966647/check-python-string-format\n",
    "\n",
    "Export df to json file\n",
    "https://datatofish.com/export-pandas-dataframe-json/"
   ]
  }
 ],
 "metadata": {
  "kernelspec": {
   "display_name": "Python 3",
   "language": "python",
   "name": "python3"
  },
  "language_info": {
   "codemirror_mode": {
    "name": "ipython",
    "version": 3
   },
   "file_extension": ".py",
   "mimetype": "text/x-python",
   "name": "python",
   "nbconvert_exporter": "python",
   "pygments_lexer": "ipython3",
   "version": "3.7.4"
  }
 },
 "nbformat": 4,
 "nbformat_minor": 2
}
